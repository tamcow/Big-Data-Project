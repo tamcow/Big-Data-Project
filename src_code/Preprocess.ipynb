{
 "cells": [
  {
   "cell_type": "markdown",
   "id": "a7c6091c-c87b-4184-949d-4c7f329b8a3b",
   "metadata": {},
   "source": [
    "<h2>Thông tin chung về dữ liệu</h2>"
   ]
  },
  {
   "cell_type": "code",
   "execution_count": 1,
   "id": "42b9c2e7-1f30-49e6-9ac4-abd3c1331e6f",
   "metadata": {},
   "outputs": [],
   "source": [
    "#Import các thư viện cần thiết\n",
    "from pyspark.sql import SparkSession\n",
    "from pyspark.sql import Row\n",
    "from pyspark.sql.functions import mean as _mean, col, when, count, desc, lit\n",
    "import pyspark.sql.functions as F"
   ]
  },
  {
   "cell_type": "code",
   "execution_count": 2,
   "id": "2e9f570d-e643-4581-bbaf-5028ea49bb9b",
   "metadata": {},
   "outputs": [
    {
     "name": "stderr",
     "output_type": "stream",
     "text": [
      "24/06/02 22:19:34 WARN SparkSession: Using an existing Spark session; only runtime SQL configurations will take effect.\n",
      "                                                                                \r"
     ]
    }
   ],
   "source": [
    "# Tạo Spark session\n",
    "spark = SparkSession.builder.appName(\"KMeansClustering\").getOrCreate()\n",
    "\n",
    "# Đọc dữ liệu\n",
    "data = spark.read.format(\"csv\")\\\n",
    "    .option(\"header\", \"true\")\\\n",
    "    .option(\"inferSchema\", \"true\")\\\n",
    "    .load(\"Car_Rates.csv\")"
   ]
  },
  {
   "cell_type": "code",
   "execution_count": 3,
   "id": "e35be468-792d-43d0-99c1-76983f70d0d3",
   "metadata": {},
   "outputs": [
    {
     "name": "stdout",
     "output_type": "stream",
     "text": [
      "Number of rows: 4243\n",
      "Number of columns: 12\n"
     ]
    }
   ],
   "source": [
    "#Đếm số dòng\n",
    "rows = data.count()\n",
    "print(f\"Number of rows: {rows}\")\n",
    "\n",
    "#Đếm số cột\n",
    "cols = len(data.columns)\n",
    "print(f\"Number of columns: {cols}\")"
   ]
  },
  {
   "cell_type": "code",
   "execution_count": 4,
   "id": "593599d1-a504-4911-aed6-60579f9c3738",
   "metadata": {
    "scrolled": true
   },
   "outputs": [
    {
     "name": "stdout",
     "output_type": "stream",
     "text": [
      "root\n",
      " |-- Car_name: string (nullable = true)\n",
      " |-- Num_of_reviews: double (nullable = true)\n",
      " |-- General_rate: double (nullable = true)\n",
      " |-- Comfort: double (nullable = true)\n",
      " |-- Interior design: double (nullable = true)\n",
      " |-- Performance: double (nullable = true)\n",
      " |-- Value for the money: double (nullable = true)\n",
      " |-- Exterior styling: double (nullable = true)\n",
      " |-- Reliability: double (nullable = true)\n",
      " |-- Year: integer (nullable = true)\n",
      " |-- Brand: string (nullable = true)\n",
      " |-- Model: string (nullable = true)\n",
      "\n"
     ]
    }
   ],
   "source": [
    "#Hiển thị schema dữ liệu\n",
    "data.printSchema()"
   ]
  },
  {
   "cell_type": "code",
   "execution_count": 5,
   "id": "e9b97b00-1645-4797-9767-c82d5b85497d",
   "metadata": {},
   "outputs": [
    {
     "name": "stdout",
     "output_type": "stream",
     "text": [
      "+--------------------+-----+-----------------+------------+----+\n",
      "|            Car_name|Brand|            Model|General_rate|Year|\n",
      "+--------------------+-----+-----------------+------------+----+\n",
      "|2023     Acura   ...|Acura|         Integra.|         4.6|2023|\n",
      "|2023     Acura   ...|Acura|             MDX.|        NULL|2023|\n",
      "|2023     Acura   ...|Acura|             TLX.|        NULL|2023|\n",
      "|2023     Acura   ...|Acura|             RDX.|        NULL|2023|\n",
      "|2022     Acura   ...|Acura|             TLX.|         4.8|2022|\n",
      "|2022     Acura   ...|Acura|             MDX.|         4.7|2022|\n",
      "|2022     Acura   ...|Acura|             RDX.|         4.8|2022|\n",
      "|2022     Acura   ...|Acura|             ILX.|        NULL|2022|\n",
      "|2022     Acura   ...|Acura|             NSX.|        NULL|2022|\n",
      "|2021     Acura   ...|Acura|             ILX.|         4.9|2021|\n",
      "|2021     Acura   ...|Acura|             TLX.|         4.6|2021|\n",
      "|2021     Acura   ...|Acura|             RDX.|         4.8|2021|\n",
      "|2021     Acura   ...|Acura|             NSX.|        NULL|2021|\n",
      "|2020     Acura   ...|Acura|             ILX.|         4.6|2020|\n",
      "|2020     Acura   ...|Acura|RLX Sport Hybrid.|         5.0|2020|\n",
      "|2020     Acura   ...|Acura|             MDX.|         4.8|2020|\n",
      "|2020     Acura   ...|Acura|             TLX.|         4.9|2020|\n",
      "|2020     Acura   ...|Acura|MDX Sport Hybrid.|         4.9|2020|\n",
      "|2020     Acura   ...|Acura|             RDX.|         4.6|2020|\n",
      "|2020     Acura   ...|Acura|             RLX.|         4.8|2020|\n",
      "+--------------------+-----+-----------------+------------+----+\n",
      "only showing top 20 rows\n",
      "\n"
     ]
    }
   ],
   "source": [
    "# Tạo view tạm thời\n",
    "data.createOrReplaceTempView(\"car_rates_view\")\n",
    "\n",
    "# Truy vấn dữ liệu\n",
    "sqlDF = spark.sql(\"\"\"\n",
    "SELECT Car_name, Brand, Model, General_rate, Year\n",
    "FROM car_rates_view\n",
    "\"\"\")\n",
    "\n",
    "# Hiển thị kết quả truy\n",
    "sqlDF.show()"
   ]
  },
  {
   "cell_type": "markdown",
   "id": "d3bba97f-ecad-404e-839b-50d41df75eb1",
   "metadata": {},
   "source": [
    "<h2>Tính toán thống kê</h2>"
   ]
  },
  {
   "cell_type": "code",
   "execution_count": 6,
   "id": "642a071a-de58-4300-b5d7-f97b69af7e67",
   "metadata": {},
   "outputs": [],
   "source": [
    "# Tính giá trị cao nhất, thấp nhất, trung bình cho các cột số\n",
    "numerical_columns = [\"Num_of_reviews\", \"General_rate\", \"Comfort\", \"Interior design\", \"Performance\", \"Value for the money\", \"Exterior styling\", \"Reliability\"]\n",
    "categorical_columns = [\"Year\", \"Brand\", \"Model\"]\n",
    "\n",
    "stats = data.select(\n",
    "    *[F.max(c).alias(f\"max_{c}\") for c in numerical_columns],\n",
    "    *[F.min(c).alias(f\"min_{c}\") for c in numerical_columns],\n",
    "    *[F.avg(c).alias(f\"avg_{c}\") for c in numerical_columns]\n",
    ")"
   ]
  },
  {
   "cell_type": "code",
   "execution_count": 7,
   "id": "13c357d7-ed34-48be-9a65-69d7eb911940",
   "metadata": {},
   "outputs": [],
   "source": [
    "# Tính giá trị trung vị cho các cột số\n",
    "def median(col_name):\n",
    "    return F.expr(f'percentile_approx(`{col_name}`, 0.5)')\n",
    "\n",
    "medians = data.select(\n",
    "    *[median(c).alias(f\"median_{c}\") for c in numerical_columns]\n",
    ")"
   ]
  },
  {
   "cell_type": "code",
   "execution_count": 8,
   "id": "23ec7556-e504-4703-b83c-98dc972fc527",
   "metadata": {},
   "outputs": [
    {
     "name": "stderr",
     "output_type": "stream",
     "text": [
      "24/06/02 22:19:47 WARN SparkStringUtils: Truncated the string representation of a plan since it was too large. This behavior can be adjusted by setting 'spark.sql.debug.maxToStringFields'.\n"
     ]
    },
    {
     "name": "stdout",
     "output_type": "stream",
     "text": [
      "Metric                     | Value            \n",
      "------------------------------------------------\n",
      "max_Num_of_reviews         | 1024.0           \n",
      "max_General_rate           | 5.0              \n",
      "max_Comfort                | 5.0              \n",
      "max_Interior design        | 5.0              \n",
      "max_Performance            | 5.0              \n",
      "max_Value for the money    | 5.0              \n",
      "max_Exterior styling       | 5.0              \n",
      "max_Reliability            | 5.0              \n",
      "min_Num_of_reviews         | 1.0              \n",
      "min_General_rate           | 1.0              \n",
      "min_Comfort                | 1.0              \n",
      "min_Interior design        | 1.0              \n",
      "min_Performance            | 1.0              \n",
      "min_Value for the money    | 1.0              \n",
      "min_Exterior styling       | 1.0              \n",
      "min_Reliability            | 1.0              \n",
      "avg_Num_of_reviews         | 55.57977711334602\n",
      "avg_General_rate           | 4.626963848871978\n",
      "avg_Comfort                | 4.654879043218254\n",
      "avg_Interior design        | 4.62576787170426 \n",
      "avg_Performance            | 4.616716499048649\n",
      "avg_Value for the money    | 4.479179124762183\n",
      "avg_Exterior styling       | 4.718211470508266\n",
      "avg_Reliability            | 4.629366812227053\n",
      "median_Num_of_reviews      | 22.0             \n",
      "median_General_rate        | 4.7              \n",
      "median_Comfort             | 4.7              \n",
      "median_Interior design     | 4.7              \n",
      "median_Performance         | 4.7              \n",
      "median_Value for the money | 4.6              \n",
      "median_Exterior styling    | 4.8              \n",
      "median_Reliability         | 4.7              \n"
     ]
    }
   ],
   "source": [
    "# Thu thập kết quả từ Spark DataFrame\n",
    "stats_dict = stats.collect()[0].asDict()\n",
    "medians_dict = medians.collect()[0].asDict()\n",
    "\n",
    "# Kết hợp kết quả\n",
    "combined_stats = {**stats_dict, **medians_dict}\n",
    "\n",
    "# Định dạng kết quả dưới dạng bảng\n",
    "header = [\"Metric\", \"Value\"]\n",
    "rows = [[k, v] for k, v in combined_stats.items()]\n",
    "\n",
    "# Tính độ dài của mỗi cột để căn chỉnh đầu ra\n",
    "max_lengths = [max(len(str(item)) for item in col) for col in zip(*([header] + rows))]\n",
    "\n",
    "# Tạo chuỗi định dạng cho các cột\n",
    "format_str = ' | '.join([f'{{:<{length}}}' for length in max_lengths])\n",
    "\n",
    "# In tiêu đề\n",
    "print(format_str.format(*header))\n",
    "print('-' * (sum(max_lengths) + len(max_lengths) * 3 - 1))\n",
    "\n",
    "# In các hàng dữ liệu\n",
    "for row in rows:\n",
    "    print(format_str.format(*row))"
   ]
  },
  {
   "cell_type": "code",
   "execution_count": 9,
   "id": "ad823e7b-c755-4aa9-9457-1ea4e9191a23",
   "metadata": {},
   "outputs": [],
   "source": [
    "# Tìm giá trị phổ biến và hiếm nhất cho các cột chữ\n",
    "categorical_columns = [\"Brand\", \"Model\", \"Year\"]\n",
    "\n",
    "most_frequent = {}\n",
    "least_frequent = {}\n",
    "\n",
    "for col_name in categorical_columns:\n",
    "    freq_df = data.groupBy(col_name).agg(count(col_name).alias(\"count\"))\n",
    "    \n",
    "    # Tìm giá trị phổ biến nhất\n",
    "    most_freq_row = freq_df.orderBy(col(\"count\").desc()).first()\n",
    "    most_frequent[col_name] = (most_freq_row[col_name], most_freq_row[\"count\"])\n",
    "    \n",
    "    # Tìm giá trị hiếm nhất\n",
    "    least_freq_row = freq_df.orderBy(col(\"count\")).first()\n",
    "    least_frequent[col_name] = (least_freq_row[col_name], least_freq_row[\"count\"])"
   ]
  },
  {
   "cell_type": "code",
   "execution_count": 10,
   "id": "5cd67642-99aa-4163-a660-bcf79ab91491",
   "metadata": {},
   "outputs": [
    {
     "name": "stdout",
     "output_type": "stream",
     "text": [
      "Column | Most Frequent Value | Count | Least Frequent Value | Count\n",
      "---------------------------------------------------------------------\n",
      "Brand  | BMW                 | 436   | Tesla                | 1    \n",
      "Model  | Escalade ESV.       | 12    | Rio5.                | 1    \n",
      "Year   | 2022                | 390   | 2012                 | 278  \n"
     ]
    }
   ],
   "source": [
    "# Định dạng kết quả dưới dạng bảng\n",
    "header = [\"Column\", \"Most Frequent Value\", \"Count\", \"Least Frequent Value\", \"Count\"]\n",
    "rows = [\n",
    "    [col_name, most_frequent[col_name][0], most_frequent[col_name][1], least_frequent[col_name][0], least_frequent[col_name][1]]\n",
    "    for col_name in categorical_columns\n",
    "]\n",
    "\n",
    "# Tính độ dài của mỗi cột để căn chỉnh đầu ra\n",
    "max_lengths = [max(len(str(item)) for item in col) for col in zip(*([header] + rows))]\n",
    "\n",
    "# Tạo chuỗi định dạng cho các cột\n",
    "format_str = ' | '.join([f'{{:<{length}}}' for length in max_lengths])\n",
    "\n",
    "# In tiêu đề\n",
    "print(format_str.format(*header))\n",
    "print('-' * (sum(max_lengths) + len(max_lengths) * 3 - 1))\n",
    "\n",
    "# In các hàng dữ liệu\n",
    "for row in rows:\n",
    "    print(format_str.format(*row))"
   ]
  },
  {
   "cell_type": "markdown",
   "id": "55cd3e13-b452-4df9-b6bf-473b1036a66f",
   "metadata": {},
   "source": [
    "<h2>Tiền xử lý dữ liệu</h2>"
   ]
  },
  {
   "cell_type": "code",
   "execution_count": 11,
   "id": "36e4d125-c710-4083-bf90-ac069a740dec",
   "metadata": {},
   "outputs": [],
   "source": [
    "# Bỏ cột Car_name\n",
    "data = data.drop(\"Car_name\")"
   ]
  },
  {
   "cell_type": "code",
   "execution_count": 12,
   "id": "106cbe57-4c00-4a47-af62-982112854ae2",
   "metadata": {},
   "outputs": [],
   "source": [
    "# Xử lý missing values: điền giá trị trung bình cho các cột số và giá trị phổ biến cho các cột phân loại\n",
    "for col_name in numerical_columns:\n",
    "    mean_value = data.select(_mean(col_name)).collect()[0][0]\n",
    "    data = data.na.fill({col_name: mean_value})\n",
    "\n",
    "for col_name in categorical_columns:\n",
    "    mode_value = data.groupBy(col_name).count().orderBy('count', ascending=False).first()[0]\n",
    "    data = data.na.fill({col_name: mode_value})"
   ]
  },
  {
   "cell_type": "code",
   "execution_count": 13,
   "id": "dbd7284b-9949-4420-9d75-91fe3c086e2a",
   "metadata": {},
   "outputs": [
    {
     "name": "stdout",
     "output_type": "stream",
     "text": [
      "+-----+-----------------+-----------------+----+\n",
      "|Brand|            Model|     General_rate|Year|\n",
      "+-----+-----------------+-----------------+----+\n",
      "|Acura|         Integra.|              4.6|2023|\n",
      "|Acura|             MDX.|4.626963848871978|2023|\n",
      "|Acura|             TLX.|4.626963848871978|2023|\n",
      "|Acura|             RDX.|4.626963848871978|2023|\n",
      "|Acura|             TLX.|              4.8|2022|\n",
      "|Acura|             MDX.|              4.7|2022|\n",
      "|Acura|             RDX.|              4.8|2022|\n",
      "|Acura|             ILX.|4.626963848871978|2022|\n",
      "|Acura|             NSX.|4.626963848871978|2022|\n",
      "|Acura|             ILX.|              4.9|2021|\n",
      "|Acura|             TLX.|              4.6|2021|\n",
      "|Acura|             RDX.|              4.8|2021|\n",
      "|Acura|             NSX.|4.626963848871978|2021|\n",
      "|Acura|             ILX.|              4.6|2020|\n",
      "|Acura|RLX Sport Hybrid.|              5.0|2020|\n",
      "|Acura|             MDX.|              4.8|2020|\n",
      "|Acura|             TLX.|              4.9|2020|\n",
      "|Acura|MDX Sport Hybrid.|              4.9|2020|\n",
      "|Acura|             RDX.|              4.6|2020|\n",
      "|Acura|             RLX.|              4.8|2020|\n",
      "+-----+-----------------+-----------------+----+\n",
      "only showing top 20 rows\n",
      "\n"
     ]
    }
   ],
   "source": [
    "# Tạo view tạm thời\n",
    "data.createOrReplaceTempView(\"car_rates_view\")\n",
    "\n",
    "# Truy vấn dữ liệu\n",
    "sqlDF = spark.sql(\"\"\"\n",
    "SELECT Brand, Model, General_rate, Year\n",
    "FROM car_rates_view\n",
    "\"\"\")\n",
    "\n",
    "# Hiển thị kết quả truy\n",
    "sqlDF.show()"
   ]
  },
  {
   "cell_type": "code",
   "execution_count": 14,
   "id": "b020b8c8-c9a9-4a25-9750-c3f9da6f4b94",
   "metadata": {},
   "outputs": [
    {
     "name": "stderr",
     "output_type": "stream",
     "text": [
      "                                                                                \r"
     ]
    }
   ],
   "source": [
    "# Mã hóa các cột phân loại thành số nguyên\n",
    "for col_name in categorical_columns:\n",
    "    categories = data.select(col_name).distinct().rdd.flatMap(lambda x: x).collect()\n",
    "    mapping_expr = when(col(col_name) == lit(categories[0]), 0)\n",
    "    for idx, category in enumerate(categories[1:], 1):\n",
    "        mapping_expr = mapping_expr.when(col(col_name) == lit(category), idx)\n",
    "    data = data.withColumn(col_name + \"_encoded\", mapping_expr.otherwise(col(col_name)))"
   ]
  },
  {
   "cell_type": "code",
   "execution_count": 15,
   "id": "6f7984a5-4212-469b-8bdb-27621444c8e1",
   "metadata": {},
   "outputs": [
    {
     "name": "stderr",
     "output_type": "stream",
     "text": [
      "                                                                                \r"
     ]
    }
   ],
   "source": [
    "# Chọn tất cả các cột số và các cột đã được mã hóa\n",
    "feature_columns = numerical_columns + [col + \"_encoded\" for col in categorical_columns]\n",
    "\n",
    "# Chuẩn hóa các cột số và cột đã mã hóa\n",
    "summary = data.select(*feature_columns).summary().filter(\"summary = 'mean' or summary = 'stddev'\").collect()\n",
    "means = {row['summary']: {col: row[col] for col in feature_columns} for row in summary}\n",
    "\n",
    "def standardize(col, mean, stddev):\n",
    "    return (col - mean) / stddev\n",
    "\n",
    "for col_name in feature_columns:\n",
    "    mean = float(means['mean'][col_name])\n",
    "    stddev = float(means['stddev'][col_name])\n",
    "    data = data.withColumn(col_name, standardize(col(col_name), mean, stddev))"
   ]
  },
  {
   "cell_type": "code",
   "execution_count": 16,
   "id": "f6e76be3-1d23-43fd-9ab8-d5b8ec8ff0cc",
   "metadata": {},
   "outputs": [
    {
     "name": "stdout",
     "output_type": "stream",
     "text": [
      "+-----+-----------------+--------------------+----+\n",
      "|Brand|            Model|        General_rate|Year|\n",
      "+-----+-----------------+--------------------+----+\n",
      "|Acura|         Integra.|-0.08643390285902246|2023|\n",
      "|Acura|             MDX.|1.252723235112115...|2023|\n",
      "|Acura|             TLX.|1.252723235112115...|2023|\n",
      "|Acura|             RDX.|1.252723235112115...|2023|\n",
      "|Acura|             TLX.|  0.5546756306465788|2022|\n",
      "|Acura|             MDX.| 0.23412086389377956|2022|\n",
      "|Acura|             RDX.|  0.5546756306465788|2022|\n",
      "|Acura|             ILX.|1.252723235112115...|2022|\n",
      "|Acura|             NSX.|1.252723235112115...|2022|\n",
      "|Acura|             ILX.|  0.8752303973993808|2021|\n",
      "|Acura|             TLX.|-0.08643390285902246|2021|\n",
      "|Acura|             RDX.|  0.5546756306465788|2021|\n",
      "|Acura|             NSX.|1.252723235112115...|2021|\n",
      "|Acura|             ILX.|-0.08643390285902246|2020|\n",
      "|Acura|RLX Sport Hybrid.|    1.19578516415218|2020|\n",
      "|Acura|             MDX.|  0.5546756306465788|2020|\n",
      "|Acura|             TLX.|  0.8752303973993808|2020|\n",
      "|Acura|MDX Sport Hybrid.|  0.8752303973993808|2020|\n",
      "|Acura|             RDX.|-0.08643390285902246|2020|\n",
      "|Acura|             RLX.|  0.5546756306465788|2020|\n",
      "+-----+-----------------+--------------------+----+\n",
      "only showing top 20 rows\n",
      "\n"
     ]
    }
   ],
   "source": [
    "# Tạo view tạm thời\n",
    "data.createOrReplaceTempView(\"car_rates_view\")\n",
    "\n",
    "# Truy vấn dữ liệu\n",
    "sqlDF = spark.sql(\"\"\"\n",
    "SELECT Brand, Model, General_rate, Year\n",
    "FROM car_rates_view\n",
    "\"\"\")\n",
    "\n",
    "# Hiển thị kết quả truy\n",
    "sqlDF.show()"
   ]
  },
  {
   "cell_type": "code",
   "execution_count": 17,
   "id": "bd3ba465-68e5-4e7f-96d0-895c76386a53",
   "metadata": {},
   "outputs": [
    {
     "name": "stderr",
     "output_type": "stream",
     "text": [
      "                                                                                \r"
     ]
    }
   ],
   "source": [
    "# Lưu DataFrame vào file CSV mới\n",
    "data.write.mode(\"overwrite\").csv(\"data_processed.csv\", header=True)"
   ]
  },
  {
   "cell_type": "code",
   "execution_count": 18,
   "id": "df926ec0-dba1-4bd5-a34c-902ba2c4b564",
   "metadata": {},
   "outputs": [],
   "source": [
    "# Dừng Spark session\n",
    "spark.stop()"
   ]
  },
  {
   "cell_type": "code",
   "execution_count": null,
   "id": "bf1f7992-5e35-48a2-98fc-0288a9e69343",
   "metadata": {},
   "outputs": [],
   "source": []
  }
 ],
 "metadata": {
  "kernelspec": {
   "display_name": "Python 3 (ipykernel)",
   "language": "python",
   "name": "python3"
  },
  "language_info": {
   "codemirror_mode": {
    "name": "ipython",
    "version": 3
   },
   "file_extension": ".py",
   "mimetype": "text/x-python",
   "name": "python",
   "nbconvert_exporter": "python",
   "pygments_lexer": "ipython3",
   "version": "3.10.12"
  }
 },
 "nbformat": 4,
 "nbformat_minor": 5
}
